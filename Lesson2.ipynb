{
 "cells": [
  {
   "cell_type": "markdown",
   "id": "2383bebc",
   "metadata": {},
   "source": [
    "#### Задание 1. Сгенерировать датасет при помощи sklearn.datasets.make_regression и обучить линейную модель при помощи градиентного спуска и стохастического градиентного спуска. Построить графики среднеквадратичной ошибки (MSE) от числа итераций для обоих методов на одном рисунке, сделать выводы о разнице скорости сходимости каждого из методов."
   ]
  },
  {
   "cell_type": "code",
   "execution_count": 1,
   "id": "e10ef4aa",
   "metadata": {},
   "outputs": [],
   "source": [
    "import numpy as np\n",
    "from sklearn import datasets\n",
    "import matplotlib.pyplot as plt\n",
    "from tqdm import tqdm\n",
    "\n",
    "%matplotlib inline"
   ]
  },
  {
   "cell_type": "code",
   "execution_count": 3,
   "id": "e5dc2708",
   "metadata": {},
   "outputs": [],
   "source": [
    "data, target, coef = datasets.make_regression(n_samples=1000, n_features = 2, n_informative = 2, n_targets = 1, noise = 5, \n",
    "                                              coef = True, random_state = 2)"
   ]
  },
  {
   "cell_type": "markdown",
   "id": "5ed69c36",
   "metadata": {},
   "source": [
    "Получим средние значения и стандартное отклонение, затем вычтем каждое значение признака из среднего и поделим на стандартное отклонение:"
   ]
  },
  {
   "cell_type": "code",
   "execution_count": 4,
   "id": "3c6de88b",
   "metadata": {},
   "outputs": [],
   "source": [
    "means = np.mean(data, axis=0)\n",
    "stds = np.std(data, axis=0)\n",
    "\n",
    "for i in range(data.shape[0]):\n",
    "    for j in range(data.shape[1]):\n",
    "        data[i][j] = (data[i][j] - means[j])/stds[j]"
   ]
  },
  {
   "cell_type": "markdown",
   "id": "a5ea4768",
   "metadata": {},
   "source": [
    "Функция, определяющая среднеквадратичную ошибку:"
   ]
  },
  {
   "cell_type": "code",
   "execution_count": 5,
   "id": "576b8452",
   "metadata": {},
   "outputs": [],
   "source": [
    "def mserror(X, w, y_pred):\n",
    "    y = X.dot(w)\n",
    "    return (sum((y - y_pred)**2)) / len(y)"
   ]
  },
  {
   "cell_type": "markdown",
   "id": "266170f3",
   "metadata": {},
   "source": [
    "Обучим линейную регрессию путем градиентного спуска и получим графики изменения весов и ошибки:"
   ]
  },
  {
   "cell_type": "code",
   "execution_count": 14,
   "id": "1eee41ca",
   "metadata": {},
   "outputs": [],
   "source": [
    "def gradient_descent(X, Y, w):\n",
    "    # векторы весов после кажд. итерации\n",
    "    w_list = [w.copy()]\n",
    "\n",
    "    # значения ошибок после кажд. итерации\n",
    "    errors = []\n",
    "\n",
    "    # шаг градиентного спуска\n",
    "    eta = 0.01\n",
    "\n",
    "    # макс. число итераций\n",
    "    max_iter = 1e4\n",
    "\n",
    "    # разница весов, при кот. алгоритм остановится\n",
    "    min_weight_dist = 1e-8\n",
    "\n",
    "    # начальная разница весов \n",
    "    weight_dist = np.inf\n",
    "\n",
    "    # счетчик итераций\n",
    "    iter_num = 0\n",
    "\n",
    "    # ход градиентного спуска\n",
    "    pbar = tqdm(total = max_iter+1)\n",
    "    while weight_dist > min_weight_dist and iter_num < max_iter:\n",
    "        new_w = w - 2 * eta * np.dot(X.T, (np.dot(X, w) - Y)) / Y.shape[0]\n",
    "        weight_dist = np.linalg.norm(new_w - w, ord=2)\n",
    "\n",
    "        w_list.append(new_w.copy())\n",
    "        errors.append(mserror(X, new_w, Y))\n",
    "        iter_num += 1\n",
    "        w = new_w\n",
    "        pbar.update(1)\n",
    "    pbar.close()\n",
    "    w_list = np.array(w_list)\n",
    "\n",
    "    print(f'При использовании градиентного спуска ошибка: {round(errors[-1], 4)}')\n",
    "    \n",
    "    return w_list, errors"
   ]
  },
  {
   "cell_type": "code",
   "execution_count": 15,
   "id": "4f96f48f",
   "metadata": {},
   "outputs": [
    {
     "name": "stderr",
     "output_type": "stream",
     "text": [
      " 10%|███████▏                                                                  | 965/10001.0 [00:00<00:01, 8865.94it/s]"
     ]
    },
    {
     "name": "stdout",
     "output_type": "stream",
     "text": [
      "При использовании градиентного спуска ошибка: 38.5683\n"
     ]
    },
    {
     "name": "stderr",
     "output_type": "stream",
     "text": [
      "\n"
     ]
    }
   ],
   "source": [
    "n_features = 2\n",
    "w = np.zeros(n_features)\n",
    "w_list = gradient_descent(data, target, w)"
   ]
  },
  {
   "cell_type": "markdown",
   "id": "281c7ad6",
   "metadata": {},
   "source": [
    "Стохастический градиентный спуск:"
   ]
  },
  {
   "cell_type": "code",
   "execution_count": 16,
   "id": "7910e291",
   "metadata": {},
   "outputs": [],
   "source": [
    "def stochastic_gradient_descent(X, Y, w, eta = 0.01, max_iter = 1e5, min_weight_dist = 1e-8):\n",
    "    # начальный вектор весов\n",
    "    w = np.zeros(2)\n",
    "\n",
    "    # векторы весов после кажд. итерации\n",
    "    w_list = [w.copy()]\n",
    "\n",
    "    # значения ошибок после кажд. итерации\n",
    "    errors = []\n",
    "\n",
    "    # начальная разница весов \n",
    "    weight_dist = np.inf\n",
    "\n",
    "    # счетчик итераций\n",
    "    iter_num = 0\n",
    "\n",
    "    np.random.seed(1234)\n",
    "\n",
    "    # ход градиентного спуска\n",
    "    pbar = tqdm(total = max_iter+1)\n",
    "    while weight_dist > min_weight_dist and iter_num < max_iter:\n",
    "\n",
    "        # случайный индекс объекта выборки\n",
    "        train_ind = np.random.randint(data.shape[0])\n",
    "\n",
    "        new_w = w - 2 * eta * np.dot(data[train_ind].T, (np.dot(data[train_ind], w) - target[train_ind])) / target.shape[0]\n",
    "\n",
    "        weight_dist = np.linalg.norm(new_w - w, ord=2)\n",
    "\n",
    "        w_list.append(new_w.copy())\n",
    "        errors.append(mserror(data, new_w, target))\n",
    "\n",
    "        iter_num += 1\n",
    "        w = new_w\n",
    "        pbar.update(1)\n",
    "    pbar.close()\n",
    "    w_list = np.array(w_list)\n",
    "\n",
    "    print(f'При использовании стохастического градиентного спуска ошибка: {round(errors[-1], 4)}')\n",
    "    return w_list, errors"
   ]
  },
  {
   "cell_type": "code",
   "execution_count": 17,
   "id": "fbf7a270",
   "metadata": {},
   "outputs": [
    {
     "name": "stderr",
     "output_type": "stream",
     "text": [
      " 92%|████████████████████████████████████████████████████████████████▋     | 92374/100001.0 [00:08<00:00, 11542.20it/s]"
     ]
    },
    {
     "name": "stdout",
     "output_type": "stream",
     "text": [
      "При использовании стохастического градиентного спуска ошибка: 248.3494\n"
     ]
    },
    {
     "name": "stderr",
     "output_type": "stream",
     "text": [
      "\n"
     ]
    }
   ],
   "source": [
    "n_features = 2\n",
    "w = np.zeros(n_features)\n",
    "w_list_stochastic = stochastic_gradient_descent(data, target, w, eta = 0.01, max_iter = 1e5, min_weight_dist = 1e-8)"
   ]
  },
  {
   "cell_type": "markdown",
   "id": "111588b8",
   "metadata": {},
   "source": [
    "Изменение весов (красная точка - веса, сгенерированные вначале):"
   ]
  },
  {
   "cell_type": "code",
   "execution_count": 18,
   "id": "0cbd874e",
   "metadata": {},
   "outputs": [
    {
     "data": {
      "image/png": "[encoded data removed]",
      "text/plain": [
       "<Figure size 936x432 with 1 Axes>"
      ]
     },
     "metadata": {
      "needs_background": "light"
     },
     "output_type": "display_data"
    }
   ],
   "source": [
    "w_true = coef\n",
    "\n",
    "plt.figure(figsize=(13, 6))\n",
    "plt.title('Gradient descent')\n",
    "plt.xlabel(r'$w_1$')\n",
    "plt.ylabel(r'$w_2$')\n",
    "\n",
    "plt.scatter(w_list[0][:, 0], w_list[0][:, 1])\n",
    "plt.scatter(w_list_stochastic[0][:, 0], w_list_stochastic[0][:, 1])\n",
    "plt.scatter(w_true[0], w_true[1], c='r')\n",
    "plt.plot(w_list[0][:, 0], w_list[0][:, 1], label=\"Gradient descent\")\n",
    "plt.plot(w_list_stochastic[0][:, 0], w_list_stochastic[0][:, 1], label=\"Stochastic gradient descent\")\n",
    "plt.legend()\n",
    "plt.show()"
   ]
  },
  {
   "cell_type": "markdown",
   "id": "f9a1f86b",
   "metadata": {},
   "source": [
    "Изменение ошибки:"
   ]
  },
  {
   "cell_type": "code",
   "execution_count": 20,
   "id": "b63711fc",
   "metadata": {},
   "outputs": [
    {
     "data": {
      "text/plain": [
       "<matplotlib.legend.Legend at 0x255ffb8de80>"
      ]
     },
     "execution_count": 20,
     "metadata": {},
     "output_type": "execute_result"
    },
    {
     "data": {
      "image/png": "[encoded data removed]",
      "text/plain": [
       "<Figure size 432x288 with 1 Axes>"
      ]
     },
     "metadata": {
      "needs_background": "light"
     },
     "output_type": "display_data"
    }
   ],
   "source": [
    "plt.plot(range(len(w_list[1])), w_list[1], label=\"Gradient descent\")\n",
    "plt.plot(range(len(w_list_stochastic[1])), w_list_stochastic[1], label=\"Stochastic gradient descent\")\n",
    "plt.title('MSE')\n",
    "plt.xlabel('Iteration number')\n",
    "plt.ylabel('MSE')\n",
    "plt.legend()"
   ]
  },
  {
   "cell_type": "markdown",
   "id": "7e47c483",
   "metadata": {},
   "source": [
    "Вывод: скорость сходимости у обычного градиентного спуска больше"
   ]
  },
  {
   "cell_type": "code",
   "execution_count": null,
   "id": "6e6974c5",
   "metadata": {},
   "outputs": [],
   "source": []
  }
 ],
 "metadata": {
  "kernelspec": {
   "display_name": "Python 3 (ipykernel)",
   "language": "python",
   "name": "python3"
  },
  "language_info": {
   "codemirror_mode": {
    "name": "ipython",
    "version": 3
   },
   "file_extension": ".py",
   "mimetype": "text/x-python",
   "name": "python",
   "nbconvert_exporter": "python",
   "pygments_lexer": "ipython3",
   "version": "3.9.7"
  }
 },
 "nbformat": 4,
 "nbformat_minor": 5
}
